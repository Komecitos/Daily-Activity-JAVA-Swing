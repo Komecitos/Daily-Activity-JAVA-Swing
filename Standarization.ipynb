{
  "nbformat": 4,
  "nbformat_minor": 0,
  "metadata": {
    "colab": {
      "provenance": [],
      "authorship_tag": "ABX9TyN1JlrZXS9z/6HraPHWM1mi",
      "include_colab_link": true
    },
    "kernelspec": {
      "name": "python3",
      "display_name": "Python 3"
    },
    "language_info": {
      "name": "python"
    }
  },
  "cells": [
    {
      "cell_type": "markdown",
      "metadata": {
        "id": "view-in-github",
        "colab_type": "text"
      },
      "source": [
        "<a href=\"https://colab.research.google.com/github/Komecitos/Daily-Activity-JAVA-Swing/blob/master/Standarization.ipynb\" target=\"_parent\"><img src=\"https://colab.research.google.com/assets/colab-badge.svg\" alt=\"Open In Colab\"/></a>"
      ]
    },
    {
      "cell_type": "code",
      "execution_count": null,
      "metadata": {
        "id": "RykCZIhcjI3l"
      },
      "outputs": [],
      "source": [
        "from sklearn import preprocessing\n",
        "data = [[12000000, 33], [35000000, 45], [4000000, 23], [6500000, 26], [9000000, 29]]\n",
        "\n",
        "## untuk menghitung rata-rata dan deviasi standar dari setiap kolom atribut untuk kemudian dipakai pada fungsi transform\n",
        "scaler = preprocessing.StandardScaler().fit(data)\n",
        "data = scaler.transform(data)\n",
        "data"
      ]
    },
    {
      "cell_type": "code",
      "source": [
        "from sklearn.model_selection import trein_test_split\n",
        "x_train, x_test, y_train, y_test = train_test_split(x, y, test_size=0.2, random_state=1)"
      ],
      "metadata": {
        "id": "SOeEBODWmqmQ"
      },
      "execution_count": null,
      "outputs": []
    },
    {
      "cell_type": "code",
      "source": [
        "# random state\n",
        "from sklearn.model_selection import train_test_split\n",
        "x_data = range (10)\n",
        "y_data = range (10)\n",
        "\n",
        "print('Random_state dientukan')\n",
        "for i in range(3):\n",
        "  x_train, x_test, y_train, y_test = train_test_split(x_data, y_data, test_size=0.3, random_state = 42)\n",
        "  print(y_test)\n",
        "\n",
        "print('Random_state tidak dtemukan')\n",
        "for i in range(3):\n",
        "  x_train, x_test, y_train, y_test = train_test_split(x_data, y_data, test_size = 0.3, random_state = None)\n",
        "  print(y_test)"
      ],
      "metadata": {
        "id": "Wx1NiBLtnezy"
      },
      "execution_count": null,
      "outputs": []
    }
  ]
}